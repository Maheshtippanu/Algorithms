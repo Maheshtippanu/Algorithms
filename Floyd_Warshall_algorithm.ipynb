{
  "nbformat": 4,
  "nbformat_minor": 0,
  "metadata": {
    "colab": {
      "provenance": [],
      "authorship_tag": "ABX9TyN04+Qv3QCKxzN3mo1kT+Ya",
      "include_colab_link": true
    },
    "kernelspec": {
      "name": "python3",
      "display_name": "Python 3"
    },
    "language_info": {
      "name": "python"
    }
  },
  "cells": [
    {
      "cell_type": "markdown",
      "metadata": {
        "id": "view-in-github",
        "colab_type": "text"
      },
      "source": [
        "<a href=\"https://colab.research.google.com/github/Maheshtippanu/Algorithms/blob/Floyd-Warshall_algorithm/Floyd_Warshall_algorithm.ipynb\" target=\"_parent\"><img src=\"https://colab.research.google.com/assets/colab-badge.svg\" alt=\"Open In Colab\"/></a>"
      ]
    },
    {
      "cell_type": "code",
      "execution_count": 2,
      "metadata": {
        "colab": {
          "base_uri": "https://localhost:8080/"
        },
        "id": "MTXDX1hJ1E1K",
        "outputId": "60a91901-e689-4ff1-b682-ea4663b2197a"
      },
      "outputs": [
        {
          "output_type": "stream",
          "name": "stdout",
          "text": [
            "Shortest path matrix:\n",
            "[0. 3. 5. 6.]\n",
            "[5. 0. 2. 3.]\n",
            "[3. 6. 0. 1.]\n",
            "[2. 5. 7. 0.]\n"
          ]
        }
      ],
      "source": [
        "import numpy as np\n",
        "\n",
        "def floyd_warshall(graph):\n",
        "    # Number of vertices\n",
        "    num_vertices = len(graph)\n",
        "\n",
        "    # Initialize distance matrix\n",
        "    dist = np.full((num_vertices, num_vertices), float('inf'))\n",
        "\n",
        "    # Set the distance from each vertex to itself to 0\n",
        "    for i in range(num_vertices):\n",
        "        dist[i][i] = 0\n",
        "\n",
        "    # Initialize distances based on the input graph\n",
        "    for i in range(num_vertices):\n",
        "        for j in range(num_vertices):\n",
        "            if graph[i][j] != 0:  # Only set distance if there is an edge\n",
        "                dist[i][j] = graph[i][j]\n",
        "\n",
        "    # Update distances using the Floyd-Warshall algorithm\n",
        "    for k in range(num_vertices):\n",
        "        for i in range(num_vertices):\n",
        "            for j in range(num_vertices):\n",
        "                dist[i][j] = min(dist[i][j], dist[i][k] + dist[k][j])\n",
        "\n",
        "    return dist\n",
        "\n",
        "# Example usage\n",
        "if __name__ == \"__main__\":\n",
        "    # Example graph represented as a weight matrix\n",
        "    # 0 indicates no edge between vertices\n",
        "    graph = [\n",
        "        [0, 3, float('inf'), 7],\n",
        "        [8, 0, 2, float('inf')],\n",
        "        [5, float('inf'), 0, 1],\n",
        "        [2, float('inf'), float('inf'), 0]\n",
        "    ]\n",
        "\n",
        "    shortest_paths = floyd_warshall(graph)\n",
        "\n",
        "    print(\"Shortest path matrix:\")\n",
        "    for row in shortest_paths:\n",
        "        print(row)\n"
      ]
    }
  ]
}