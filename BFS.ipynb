{
  "nbformat": 4,
  "nbformat_minor": 0,
  "metadata": {
    "colab": {
      "provenance": [],
      "authorship_tag": "ABX9TyN1HMgKtdjaPIAMBtkg9USL",
      "include_colab_link": true
    },
    "kernelspec": {
      "name": "python3",
      "display_name": "Python 3"
    },
    "language_info": {
      "name": "python"
    }
  },
  "cells": [
    {
      "cell_type": "markdown",
      "metadata": {
        "id": "view-in-github",
        "colab_type": "text"
      },
      "source": [
        "<a href=\"https://colab.research.google.com/github/Maheshtippanu/Algorithms/blob/Breath_First_Search/BFS.ipynb\" target=\"_parent\"><img src=\"https://colab.research.google.com/assets/colab-badge.svg\" alt=\"Open In Colab\"/></a>"
      ]
    },
    {
      "cell_type": "code",
      "execution_count": 1,
      "metadata": {
        "colab": {
          "base_uri": "https://localhost:8080/"
        },
        "id": "4DUmdMItuvH8",
        "outputId": "bc1b5cb7-b818-4c2c-8523-0534b7477961"
      },
      "outputs": [
        {
          "output_type": "stream",
          "name": "stdout",
          "text": [
            "BFS Traversal: A B C D E F "
          ]
        }
      ],
      "source": [
        "from collections import deque\n",
        "\n",
        "def bfs(graph, start):\n",
        "    visited = set()  # Track visited nodes\n",
        "    queue = deque([start])  # Initialize the queue with the start node\n",
        "\n",
        "    while queue:\n",
        "        node = queue.popleft()  # Dequeue the front node\n",
        "        if node not in visited:\n",
        "            visited.add(node)  # Mark the node as visited\n",
        "            print(node, end=' ')  # Process the node (e.g., print it)\n",
        "            # Enqueue all unvisited neighbors\n",
        "            for neighbor in graph[node]:\n",
        "                if neighbor not in visited:\n",
        "                    queue.append(neighbor)\n",
        "\n",
        "# Example usage:\n",
        "if __name__ == \"__main__\":\n",
        "    graph = {\n",
        "        'A': ['B', 'C'],\n",
        "        'B': ['A', 'D', 'E'],\n",
        "        'C': ['A', 'F'],\n",
        "        'D': ['B'],\n",
        "        'E': ['B', 'F'],\n",
        "        'F': ['C', 'E']\n",
        "    }\n",
        "    print(\"BFS Traversal:\", end=' ')\n",
        "    bfs(graph, 'A')\n"
      ]
    }
  ]
}