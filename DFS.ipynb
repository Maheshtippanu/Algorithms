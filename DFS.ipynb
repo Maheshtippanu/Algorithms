{
  "nbformat": 4,
  "nbformat_minor": 0,
  "metadata": {
    "colab": {
      "provenance": [],
      "authorship_tag": "ABX9TyPjZqSkuQ08LDdOXLjac2t6",
      "include_colab_link": true
    },
    "kernelspec": {
      "name": "python3",
      "display_name": "Python 3"
    },
    "language_info": {
      "name": "python"
    }
  },
  "cells": [
    {
      "cell_type": "markdown",
      "metadata": {
        "id": "view-in-github",
        "colab_type": "text"
      },
      "source": [
        "<a href=\"https://colab.research.google.com/github/Maheshtippanu/Algorithms/blob/Depth_First_Search/DFS.ipynb\" target=\"_parent\"><img src=\"https://colab.research.google.com/assets/colab-badge.svg\" alt=\"Open In Colab\"/></a>"
      ]
    },
    {
      "cell_type": "code",
      "execution_count": 2,
      "metadata": {
        "colab": {
          "base_uri": "https://localhost:8080/"
        },
        "id": "CQhAzej_vJ9W",
        "outputId": "d8d32555-de13-430f-c2e6-6ef083fb46c7"
      },
      "outputs": [
        {
          "output_type": "stream",
          "name": "stdout",
          "text": [
            "DFS Traversal: A B D E F C "
          ]
        }
      ],
      "source": [
        "def dfs(graph, node, visited=None):\n",
        "    if visited is None:\n",
        "        visited = set()\n",
        "    visited.add(node)\n",
        "    print(node, end=' ')\n",
        "\n",
        "    for neighbor in graph[node]:\n",
        "        if neighbor not in visited:\n",
        "            dfs(graph, neighbor, visited)\n",
        "\n",
        "if __name__ == \"__main__\":\n",
        "    graph = {\n",
        "        'A': ['B', 'C'],\n",
        "        'B': ['A', 'D', 'E'],\n",
        "        'C': ['A', 'F'],\n",
        "        'D': ['B'],\n",
        "        'E': ['B', 'F'],\n",
        "        'F': ['C', 'E']\n",
        "    }\n",
        "    print(\"DFS Traversal:\", end=' ')\n",
        "    dfs(graph, 'A')\n"
      ]
    }
  ]
}