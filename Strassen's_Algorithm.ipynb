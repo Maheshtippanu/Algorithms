{
  "nbformat": 4,
  "nbformat_minor": 0,
  "metadata": {
    "colab": {
      "provenance": [],
      "authorship_tag": "ABX9TyOYDMg6q2G1tcC0rp7EAkD+",
      "include_colab_link": true
    },
    "kernelspec": {
      "name": "python3",
      "display_name": "Python 3"
    },
    "language_info": {
      "name": "python"
    }
  },
  "cells": [
    {
      "cell_type": "markdown",
      "metadata": {
        "id": "view-in-github",
        "colab_type": "text"
      },
      "source": [
        "<a href=\"https://colab.research.google.com/github/Maheshtippanu/Algorithms/blob/Strassen's_Algorithm/Strassen's_Algorithm.ipynb\" target=\"_parent\"><img src=\"https://colab.research.google.com/assets/colab-badge.svg\" alt=\"Open In Colab\"/></a>"
      ]
    },
    {
      "cell_type": "code",
      "execution_count": 1,
      "metadata": {
        "colab": {
          "base_uri": "https://localhost:8080/"
        },
        "id": "JXwRqGEfyzUV",
        "outputId": "dafb5459-4c1a-4525-b6de-7da386616198"
      },
      "outputs": [
        {
          "output_type": "stream",
          "name": "stdout",
          "text": [
            "Product of A and B using Strassen's algorithm:\n",
            "[[19. 22.]\n",
            " [43. 50.]]\n"
          ]
        }
      ],
      "source": [
        "import numpy as np\n",
        "\n",
        "def add_matrices(A, B):\n",
        "    return np.add(A, B)\n",
        "\n",
        "def subtract_matrices(A, B):\n",
        "    return np.subtract(A, B)\n",
        "\n",
        "def strassen(A, B):\n",
        "    # Base case for 1x1 matrix multiplication\n",
        "    if len(A) == 1:\n",
        "        return A * B\n",
        "\n",
        "    # Splitting the matrices into quadrants\n",
        "    mid = len(A) // 2\n",
        "    A11 = A[:mid, :mid]\n",
        "    A12 = A[:mid, mid:]\n",
        "    A21 = A[mid:, :mid]\n",
        "    A22 = A[mid:, mid:]\n",
        "\n",
        "    B11 = B[:mid, :mid]\n",
        "    B12 = B[:mid, mid:]\n",
        "    B21 = B[mid:, :mid]\n",
        "    B22 = B[mid:, mid:]\n",
        "\n",
        "    # Calculating the 7 products\n",
        "    P1 = strassen(A11, subtract_matrices(B12, B22))\n",
        "    P2 = strassen(add_matrices(A11, A12), B22)\n",
        "    P3 = strassen(add_matrices(A21, A22), B11)\n",
        "    P4 = strassen(A22, subtract_matrices(B21, B11))\n",
        "    P5 = strassen(add_matrices(A11, A22), add_matrices(B11, B22))\n",
        "    P6 = strassen(subtract_matrices(A12, A22), add_matrices(B21, B22))\n",
        "    P7 = strassen(subtract_matrices(A11, A21), add_matrices(B11, B12))\n",
        "\n",
        "    # Constructing the resulting submatrices\n",
        "    C11 = add_matrices(subtract_matrices(add_matrices(P5, P4), P2), P6)\n",
        "    C12 = add_matrices(P1, P2)\n",
        "    C21 = add_matrices(P3, P4)\n",
        "    C22 = subtract_matrices(subtract_matrices(add_matrices(P5, P1), P3), P7)\n",
        "\n",
        "    # Combining the submatrices into a single matrix\n",
        "    C = np.zeros((len(A), len(B)))\n",
        "    C[:mid, :mid] = C11\n",
        "    C[:mid, mid:] = C12\n",
        "    C[mid:, :mid] = C21\n",
        "    C[mid:, mid:] = C22\n",
        "\n",
        "    return C\n",
        "\n",
        "# Example usage\n",
        "if __name__ == \"__main__\":\n",
        "    A = np.array([[1, 2], [3, 4]])\n",
        "    B = np.array([[5, 6], [7, 8]])\n",
        "    C = strassen(A, B)\n",
        "    print(\"Product of A and B using Strassen's algorithm:\")\n",
        "    print(C)\n"
      ]
    }
  ]
}