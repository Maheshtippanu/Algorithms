{
  "nbformat": 4,
  "nbformat_minor": 0,
  "metadata": {
    "colab": {
      "provenance": [],
      "authorship_tag": "ABX9TyNeGAzp2X/tfzB+Pl876VHk",
      "include_colab_link": true
    },
    "kernelspec": {
      "name": "python3",
      "display_name": "Python 3"
    },
    "language_info": {
      "name": "python"
    }
  },
  "cells": [
    {
      "cell_type": "markdown",
      "metadata": {
        "id": "view-in-github",
        "colab_type": "text"
      },
      "source": [
        "<a href=\"https://colab.research.google.com/github/Maheshtippanu/Algorithms/blob/Dijkstra's/Dijkstra's.ipynb\" target=\"_parent\"><img src=\"https://colab.research.google.com/assets/colab-badge.svg\" alt=\"Open In Colab\"/></a>"
      ]
    },
    {
      "cell_type": "code",
      "execution_count": 2,
      "metadata": {
        "colab": {
          "base_uri": "https://localhost:8080/"
        },
        "id": "YLAB6DcQv2rf",
        "outputId": "d1704856-618d-4222-8e5e-71e69b1a67e6"
      },
      "outputs": [
        {
          "output_type": "stream",
          "name": "stdout",
          "text": [
            "Shortest paths from A: {'A': 0, 'B': 1, 'C': 3, 'D': 4}\n"
          ]
        }
      ],
      "source": [
        " import heapq\n",
        "\n",
        "def dijkstra(graph, start):\n",
        "\n",
        "    distances = {node: float('inf') for node in graph}\n",
        "    distances[start] = 0\n",
        "    priority_queue = [(0, start)]  # (distance, node)\n",
        "\n",
        "    while priority_queue:\n",
        "        current_distance, current_node = heapq.heappop(priority_queue)\n",
        "\n",
        "        if current_distance > distances[current_node]:\n",
        "            continue\n",
        "\n",
        "        for neighbor, weight in graph[current_node].items():\n",
        "            distance = current_distance + weight\n",
        "\n",
        "            if distance < distances[neighbor]:\n",
        "                distances[neighbor] = distance\n",
        "                heapq.heappush(priority_queue, (distance, neighbor))\n",
        "\n",
        "    return distances\n",
        "\n",
        "# Example usage\n",
        "if __name__ == \"__main__\":\n",
        "\n",
        "    graph = {\n",
        "        'A': {'B': 1, 'C': 4},\n",
        "        'B': {'A': 1, 'C': 2, 'D': 5},\n",
        "        'C': {'A': 4, 'B': 2, 'D': 1},\n",
        "        'D': {'B': 5, 'C': 1}\n",
        "    }\n",
        "\n",
        "    start_node = 'A'\n",
        "    shortest_paths = dijkstra(graph, start_node)\n",
        "    print(f\"Shortest paths from {start_node}: {shortest_paths}\")\n"
      ]
    }
  ]
}