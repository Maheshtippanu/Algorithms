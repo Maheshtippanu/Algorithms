{
  "nbformat": 4,
  "nbformat_minor": 0,
  "metadata": {
    "colab": {
      "provenance": [],
      "authorship_tag": "ABX9TyMQjtRja0/CRwqIe3x1kHLI",
      "include_colab_link": true
    },
    "kernelspec": {
      "name": "python3",
      "display_name": "Python 3"
    },
    "language_info": {
      "name": "python"
    }
  },
  "cells": [
    {
      "cell_type": "markdown",
      "metadata": {
        "id": "view-in-github",
        "colab_type": "text"
      },
      "source": [
        "<a href=\"https://colab.research.google.com/github/Maheshtippanu/Algorithms/blob/Hopcroft-Karp_algorithm/Hopcroft_Karp_algorithm_.ipynb\" target=\"_parent\"><img src=\"https://colab.research.google.com/assets/colab-badge.svg\" alt=\"Open In Colab\"/></a>"
      ]
    },
    {
      "cell_type": "code",
      "execution_count": null,
      "metadata": {
        "id": "DEXNDwonzXfL"
      },
      "outputs": [],
      "source": [
        "from collections import deque, defaultdict\n",
        "\n",
        "class HopcroftKarp:\n",
        "    def __init__(self, U, V):\n",
        "        self.U = U\n",
        "        self.V = V\n",
        "        self.pair_U = {}\n",
        "        self.pair_V = {}\n",
        "        self.dist = {}\n",
        "\n",
        "    def bfs(self):\n",
        "        queue = deque()\n",
        "        for u in self.U:\n",
        "            if u not in self.pair_U:  # Free vertex in U\n",
        "                self.dist[u] = 0\n",
        "                queue.append(u)\n",
        "            else:\n",
        "                self.dist[u] = float('inf')\n",
        "        self.dist[None] = float('inf')\n",
        "\n",
        "        while queue:\n",
        "            u = queue.popleft()\n",
        "            if self.dist[u] < self.dist[None]:\n",
        "                for v in self.graph[u]:\n",
        "                    if self.dist[self.pair_V.get(v)] == float('inf'):\n",
        "                        self.dist[self.pair_V.get(v)] = self.dist[u] + 1\n",
        "                        queue.append(self.pair_V.get(v))\n",
        "\n",
        "        return self.dist[None] != float('inf')\n",
        "\n",
        "    def dfs(self, u):\n",
        "        if u is not None:\n",
        "            for v in self.graph[u]:\n",
        "                if self.dist[self.pair_V.get(v)] == self.dist[u] + 1:\n",
        "                    if self.dfs(self.pair_V.get(v)):\n",
        "                        self.pair_V[v] = u\n",
        "                        self.pair_U[u] = v\n",
        "                        return True\n",
        "            self.dist[u] = float('inf')\n",
        "            return False\n",
        "        return True\n",
        "\n",
        "    def maximum_matching(self, graph):\n",
        "        self.graph = graph\n",
        "        self.pair_U = {}\n",
        "        self.pair_V = {}\n",
        "        matching_size = 0\n",
        "\n",
        "        while self.bfs():\n",
        "            for u in self.U:\n",
        "                if u not in self.pair_U:\n",
        "                    if self.dfs(u):\n",
        "                        matching_size += 1\n",
        "\n",
        "        return matching_size, self.pair_U\n",
        "\n",
        "# Example usage\n",
        "if __name__ == \"__main__\":\n",
        "    U = ['A', 'B', 'C']\n",
        "    V = ['1', '2', '3']\n",
        "    graph = {\n",
        "        'A': ['1', '2'],\n",
        "        'B': ['2'],\n",
        "        'C': ['1', '3']\n",
        "    }\n",
        "\n",
        "    hk = HopcroftKarp(U, V)\n",
        "    matching_size, matching_pairs = hk.maximum_matching(graph)\n",
        "\n",
        "    print(\"Size of maximum matching:\", matching_size)\n",
        "    print(\"Matching pairs:\", matching_pairs)\n"
      ]
    }
  ]
}