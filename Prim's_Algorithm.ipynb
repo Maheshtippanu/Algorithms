{
  "nbformat": 4,
  "nbformat_minor": 0,
  "metadata": {
    "colab": {
      "provenance": [],
      "authorship_tag": "ABX9TyOpLoP1R7oJXpV7ppWhNEAE",
      "include_colab_link": true
    },
    "kernelspec": {
      "name": "python3",
      "display_name": "Python 3"
    },
    "language_info": {
      "name": "python"
    }
  },
  "cells": [
    {
      "cell_type": "markdown",
      "metadata": {
        "id": "view-in-github",
        "colab_type": "text"
      },
      "source": [
        "<a href=\"https://colab.research.google.com/github/Maheshtippanu/Algorithms/blob/Prim's_Algorithm/Prim's_Algorithm.ipynb\" target=\"_parent\"><img src=\"https://colab.research.google.com/assets/colab-badge.svg\" alt=\"Open In Colab\"/></a>"
      ]
    },
    {
      "cell_type": "code",
      "execution_count": 4,
      "metadata": {
        "colab": {
          "base_uri": "https://localhost:8080/"
        },
        "id": "IaN9VpaZxMFX",
        "outputId": "59ecf02d-698f-40a1-e013-ecdd1783a767"
      },
      "outputs": [
        {
          "output_type": "stream",
          "name": "stdout",
          "text": [
            "Edges in the Minimum Spanning Tree:\n",
            "Weight: 5, Vertex: 3\n",
            "Weight: 4, Vertex: 2\n",
            "Weight: 10, Vertex: 1\n"
          ]
        }
      ],
      "source": [
        "import heapq\n",
        "\n",
        "def prim(graph, start):\n",
        "    mst = []\n",
        "    visited = set()\n",
        "    min_heap = [(0, start)]\n",
        "\n",
        "    while min_heap:\n",
        "        weight, current_vertex = heapq.heappop(min_heap)\n",
        "\n",
        "        if current_vertex not in visited:\n",
        "            visited.add(current_vertex)\n",
        "            mst.append((weight, current_vertex))\n",
        "\n",
        "\n",
        "            for neighbor, edge_weight in graph[current_vertex]:\n",
        "                if neighbor not in visited:\n",
        "                    heapq.heappush(min_heap, (edge_weight, neighbor))\n",
        "\n",
        "    # Remove the first element as it is the initial weight\n",
        "    return mst[1:]\n",
        "\n",
        "# Example usage\n",
        "if __name__ == \"__main__\":\n",
        "    # Example graph represented as an adjacency list\n",
        "    graph = {\n",
        "        0: [(1, 10), (2, 6), (3, 5)],\n",
        "        1: [(0, 10), (3, 15)],\n",
        "        2: [(0, 6), (3, 4)],\n",
        "        3: [(0, 5), (1, 15), (2, 4)]\n",
        "    }\n",
        "\n",
        "    start_vertex = 0\n",
        "    mst = prim(graph, start_vertex)\n",
        "    print(\"Edges in the Minimum Spanning Tree:\")\n",
        "    for weight, vertex in mst:\n",
        "        print(f\"Weight: {weight}, Vertex: {vertex}\")\n"
      ]
    }
  ]
}