{
  "nbformat": 4,
  "nbformat_minor": 0,
  "metadata": {
    "colab": {
      "provenance": [],
      "authorship_tag": "ABX9TyPD3yd6P1IvB4dWHKS1b2AA",
      "include_colab_link": true
    },
    "kernelspec": {
      "name": "python3",
      "display_name": "Python 3"
    },
    "language_info": {
      "name": "python"
    }
  },
  "cells": [
    {
      "cell_type": "markdown",
      "metadata": {
        "id": "view-in-github",
        "colab_type": "text"
      },
      "source": [
        "<a href=\"https://colab.research.google.com/github/Maheshtippanu/Algorithms/blob/Ford-Fulkerson_algorithm/Ford_Fulkerson.ipynb\" target=\"_parent\"><img src=\"https://colab.research.google.com/assets/colab-badge.svg\" alt=\"Open In Colab\"/></a>"
      ]
    },
    {
      "cell_type": "code",
      "execution_count": 5,
      "metadata": {
        "colab": {
          "base_uri": "https://localhost:8080/"
        },
        "id": "lZZEYluk0VBO",
        "outputId": "208d8dcc-f38f-41e0-a117-67b84b0b17c0"
      },
      "outputs": [
        {
          "output_type": "stream",
          "name": "stdout",
          "text": [
            "The maximum possible flow is: 15\n"
          ]
        }
      ],
      "source": [
        "from collections import defaultdict, deque\n",
        "\n",
        "class FordFulkerson:\n",
        "    def __init__(self, graph):\n",
        "        self.graph = graph\n",
        "        self.source = None\n",
        "        self.sink = None\n",
        "\n",
        "    def bfs(self, parent):\n",
        "        visited = set()\n",
        "        queue = deque([self.source])\n",
        "        visited.add(self.source)\n",
        "\n",
        "        while queue:\n",
        "            u = queue.popleft()\n",
        "\n",
        "            for v in self.graph[u]:\n",
        "                if v not in visited and self.graph[u][v] > 0:  # Check for available capacity\n",
        "                    queue.append(v)\n",
        "                    visited.add(v)\n",
        "                    parent[v] = u\n",
        "                    if v == self.sink:\n",
        "                        return True\n",
        "        return False\n",
        "\n",
        "    def ford_fulkerson(self, source, sink):\n",
        "        self.source = source\n",
        "        self.sink = sink\n",
        "        parent = {}\n",
        "        max_flow = 0\n",
        "\n",
        "        while self.bfs(parent):\n",
        "            # Find the maximum flow through the path found by BFS\n",
        "            path_flow = float('Inf')\n",
        "            s = self.sink\n",
        "\n",
        "            while s != self.source:\n",
        "                path_flow = min(path_flow, self.graph[parent[s]][s])\n",
        "                s = parent[s]\n",
        "\n",
        "            # Update residual capacities of the edges and reverse edges\n",
        "            v = self.sink\n",
        "            while v != self.source:\n",
        "                u = parent[v]\n",
        "                self.graph[u][v] -= path_flow\n",
        "\n",
        "                # Ensure the reverse edge exists and initialize it if not\n",
        "                if v not in self.graph or u not in self.graph[v]:\n",
        "                    self.graph[v][u] = 0\n",
        "                self.graph[v][u] += path_flow\n",
        "\n",
        "                v = parent[v]\n",
        "\n",
        "            max_flow += path_flow\n",
        "\n",
        "        return max_flow\n",
        "\n",
        "# Example usage\n",
        "if __name__ == \"__main__\":\n",
        "    # Example graph represented as an adjacency list with capacities\n",
        "    graph = defaultdict(dict)\n",
        "    graph['A']['B'] = 10\n",
        "    graph['A']['C'] = 10\n",
        "    graph['B']['C'] = 2\n",
        "    graph['B']['D'] = 10\n",
        "    graph['C']['D'] = 10\n",
        "    graph['C']['E'] = 5\n",
        "    graph['D']['F'] = 10\n",
        "    graph['E']['F'] = 10\n",
        "\n",
        "    ff = FordFulkerson(graph)\n",
        "    source = 'A'\n",
        "    sink = 'F'\n",
        "    max_flow = ff.ford_fulkerson(source, sink)\n",
        "    print(\"The maximum possible flow is:\", max_flow)\n"
      ]
    }
  ]
}